{
 "cells": [
  {
   "attachments": {},
   "cell_type": "markdown",
   "metadata": {},
   "source": [
    "Images + Mask name > Intersection set > TXT > Shutil move > Zip "
   ]
  },
  {
   "cell_type": "code",
   "execution_count": null,
   "metadata": {},
   "outputs": [],
   "source": [
    "!cp -r /content/drive/MyDrive/data-raw.zip /content/cvps23/data/data-raw.zip\n",
    "%cd /content/cvps23/data\n",
    "!unzip /content/cvps23/data/data-raw.zip\n",
    "!rm -rf /content/cvps23/data/data-raw.zip \n",
    "\n",
    "%cd /content/cvps23"
   ]
  },
  {
   "cell_type": "code",
   "execution_count": null,
   "metadata": {},
   "outputs": [],
   "source": [
    "# Size of directories\n",
    "!du -m data | sort -nr | head -n 20\n",
    "\n",
    "# Count number of files \n",
    "!ls data/img | wc -l\n",
    "!ls data/mask | wc -l"
   ]
  },
  {
   "cell_type": "code",
   "execution_count": null,
   "metadata": {},
   "outputs": [],
   "source": [
    "import os, glob\n",
    "\n",
    "def mask_image_list(dir=\"data_demo\"):\n",
    "    \"\"\"\n",
    "    List of mask & images in the directory\n",
    "    2 options: `data` (~160k) or `data_demo` (~1.5k) (default)\n",
    "    \"\"\"\n",
    "    data_dir = os.path.join(os.getcwd(), dir + os.sep)\n",
    "    img_dir = os.path.join(\"img\" + os.sep)\n",
    "    mask_dir = os.path.join(\"mask\" + os.sep)\n",
    "    \n",
    "    img_ext, mask_ext = \".jpg\", \".png\"\n",
    "    \n",
    "    img_list = glob.glob(data_dir + img_dir + \"*\" + img_ext)\n",
    "    mask_list = glob.glob(data_dir + mask_dir + \"*\" + mask_ext)\n",
    "    \n",
    "    img_name_list = []\n",
    "    mask_name_list = []\n",
    "\n",
    "    for i in range(len(img_list)):\n",
    "      img_name = img_list[i].split('/')[-1].split(\".\")[0]\n",
    "      img_name_list.append(img_name)\n",
    "\n",
    "    for i in range(len(mask_list)):\n",
    "      mask_name = mask_list[i].split('/')[-1].split(\".\")[0]\n",
    "      mask_name_list.append(mask_name)\n",
    "\n",
    "    return img_name_list, mask_name_list\n",
    "\n",
    "img_name_list, mask_name_list = mask_image_list(dir=\"data\")"
   ]
  },
  {
   "cell_type": "code",
   "execution_count": null,
   "metadata": {},
   "outputs": [],
   "source": [
    "# Check len list \n",
    "len(img_name_list), len(set(img_name_list)), len(mask_name_list), len(set(mask_name_list))\n",
    "\n",
    "# Set \n",
    "intersection = set.intersection(set(img_name_list), set(mask_name_list))"
   ]
  },
  {
   "cell_type": "code",
   "execution_count": null,
   "metadata": {},
   "outputs": [],
   "source": [
    "# TXT \n",
    "dir = \"data\"\n",
    "data_dir = os.path.join(dir + os.sep)\n",
    "img_dir = os.path.join(\"img\" + os.sep)\n",
    "mask_dir = os.path.join(\"mask\" + os.sep)\n",
    "img_ext, mask_ext = \".jpg\", \".png\"\n",
    "\n",
    "# open file in write mode\n",
    "with open(\"/content/cvps23/mask_intersection.txt\", 'w') as fp:\n",
    "\n",
    "    for item in intersection:\n",
    "        item = data_dir + mask_dir + item + mask_ext\n",
    "        # write each item on a new line\n",
    "        fp.write(\"%s\\n\" % item)\n",
    "        \n",
    "    print('Done')"
   ]
  },
  {
   "cell_type": "code",
   "execution_count": null,
   "metadata": {},
   "outputs": [],
   "source": [
    "!mkdir imgs\n",
    "!mkdir masks\n",
    "\n",
    "import shutil\n",
    "\n",
    "new_path = (r\"data/imgs\")\n",
    "\n",
    "# Same as with masks\n",
    "file = open(r\"/content/cvps23/image_intersection.txt\",\"r\")\n",
    "read_lines= file.readlines()\n",
    "file.close()\n",
    "\n",
    "for path in read_lines:\n",
    "    shutil.copy(path.replace(\"\\n\",\"\"), new_path)"
   ]
  },
  {
   "cell_type": "code",
   "execution_count": null,
   "metadata": {},
   "outputs": [],
   "source": [
    "# Tree\n",
    "!apt-get -q install tree\n",
    "!tree data"
   ]
  },
  {
   "cell_type": "code",
   "execution_count": null,
   "metadata": {},
   "outputs": [],
   "source": [
    "%cd /content/cvps23/data\n",
    "!zip -r ../data.zip *"
   ]
  },
  {
   "attachments": {},
   "cell_type": "markdown",
   "metadata": {},
   "source": [
    "# 81k Images "
   ]
  },
  {
   "cell_type": "code",
   "execution_count": null,
   "metadata": {},
   "outputs": [],
   "source": [
    "!gdown --id 1fSCrVigVjPiqlAemjWtf62WnOCv-xBm2 -O /kaggle/working/cvps23/data/data.zip"
   ]
  }
 ],
 "metadata": {
  "language_info": {
   "name": "python"
  },
  "orig_nbformat": 4
 },
 "nbformat": 4,
 "nbformat_minor": 2
}
