{
 "cells": [
  {
   "cell_type": "code",
   "execution_count": 1,
   "metadata": {},
   "outputs": [],
   "source": [
    "import pandas as pd"
   ]
  },
  {
   "cell_type": "code",
   "execution_count": 2,
   "metadata": {},
   "outputs": [],
   "source": [
    "class MetricTracker:\n",
    "    def __init__(self, *keys, writer=None):\n",
    "        self.writer = writer\n",
    "        self._data = pd.DataFrame(index=keys, columns=['total', 'counts', 'average'])\n",
    "        self.reset()\n",
    "\n",
    "    def reset(self):\n",
    "        for col in self._data.columns:\n",
    "            self._data[col].values[:] = 0\n",
    "\n",
    "    def update(self, key, value, n=1):\n",
    "        if self.writer is not None:\n",
    "            self.writer.add_scalar(key, value)\n",
    "        \n",
    "        print(\"key: {}, value: {}, self._data\".format(key, value, self._data))\n",
    "        print(\"self._data.total[key]: {}\".format(self._data.total[key]))\n",
    "        self._data.total[key] += value * n\n",
    "        self._data.counts[key] += n\n",
    "        self._data.average[key] = self._data.total[key] / self._data.counts[key]\n",
    "\n",
    "    def avg(self, key):\n",
    "        return self._data.average[key]\n",
    "\n",
    "    def result(self):\n",
    "        return dict(self._data.average)\n"
   ]
  },
  {
   "cell_type": "code",
   "execution_count": 14,
   "metadata": {},
   "outputs": [
    {
     "data": {
      "text/plain": [
       "nan"
      ]
     },
     "execution_count": 14,
     "metadata": {},
     "output_type": "execute_result"
    }
   ],
   "source": [
    "id_keys = [\"pixel_acc\", \"dice\", \"precision\", \"recall\"]\n",
    "\n",
    "_data = pd.DataFrame(index=id_keys, columns=['total', 'counts', 'average'])\n",
    "\n",
    "_data.total[\"pixel_acc\"]"
   ]
  },
  {
   "cell_type": "code",
   "execution_count": null,
   "metadata": {},
   "outputs": [],
   "source": [
    "_data."
   ]
  },
  {
   "cell_type": "code",
   "execution_count": null,
   "metadata": {},
   "outputs": [],
   "source": [
    "epoch = 2 \n",
    "len_epoch = 50 \n",
    "batch_idx = 2 \n",
    "\n",
    "writer = writer.set_step((epoch - 1) * len_epoch + batch_idx)\n"
   ]
  },
  {
   "cell_type": "code",
   "execution_count": 11,
   "metadata": {},
   "outputs": [
    {
     "ename": "AttributeError",
     "evalue": "'MetricTracker' object has no attribute 'set_step'",
     "output_type": "error",
     "traceback": [
      "\u001b[0;31m---------------------------------------------------------------------------\u001b[0m",
      "\u001b[0;31mAttributeError\u001b[0m                            Traceback (most recent call last)",
      "Cell \u001b[0;32mIn[11], line 4\u001b[0m\n\u001b[1;32m      1\u001b[0m id_keys \u001b[39m=\u001b[39m [\u001b[39m\"\u001b[39m\u001b[39mpixel_acc\u001b[39m\u001b[39m\"\u001b[39m, \u001b[39m\"\u001b[39m\u001b[39mdice\u001b[39m\u001b[39m\"\u001b[39m, \u001b[39m\"\u001b[39m\u001b[39mprecision\u001b[39m\u001b[39m\"\u001b[39m, \u001b[39m\"\u001b[39m\u001b[39mrecall\u001b[39m\u001b[39m\"\u001b[39m]\n\u001b[1;32m      2\u001b[0m train_metrics \u001b[39m=\u001b[39m MetricTracker(\u001b[39m'\u001b[39m\u001b[39mloss\u001b[39m\u001b[39m'\u001b[39m, id_keys)\n\u001b[0;32m----> 4\u001b[0m train_metrics\u001b[39m.\u001b[39;49mset_step((epoch \u001b[39m-\u001b[39m \u001b[39m1\u001b[39m) \u001b[39m*\u001b[39m len_epoch \u001b[39m+\u001b[39m batch_idx)\n",
      "\u001b[0;31mAttributeError\u001b[0m: 'MetricTracker' object has no attribute 'set_step'"
     ]
    }
   ],
   "source": [
    "id_keys = [\"pixel_acc\", \"dice\", \"precision\", \"recall\"]\n",
    "train_metrics = MetricTracker('loss', id_keys, writer=None)\n",
    "\n",
    "train_metrics.set_step((epoch - 1) * len_epoch + batch_idx)"
   ]
  },
  {
   "cell_type": "code",
   "execution_count": 10,
   "metadata": {},
   "outputs": [],
   "source": [
    "from datetime import datetime\n",
    "\n",
    "def set_step(self, step, mode='train'):\n",
    "        self.mode = mode\n",
    "        self.step = step\n",
    "        if step == 0:\n",
    "            self.timer = datetime.now()\n",
    "        else:\n",
    "            duration = datetime.now() - self.timer\n",
    "            self.add_scalar('steps_per_sec', 1 / duration.total_seconds())\n",
    "            self.timer = datetime.now()"
   ]
  },
  {
   "cell_type": "code",
   "execution_count": null,
   "metadata": {},
   "outputs": [],
   "source": []
  }
 ],
 "metadata": {
  "kernelspec": {
   "display_name": "Python 3",
   "language": "python",
   "name": "python3"
  },
  "language_info": {
   "codemirror_mode": {
    "name": "ipython",
    "version": 3
   },
   "file_extension": ".py",
   "mimetype": "text/x-python",
   "name": "python",
   "nbconvert_exporter": "python",
   "pygments_lexer": "ipython3",
   "version": "3.8.16"
  },
  "orig_nbformat": 4
 },
 "nbformat": 4,
 "nbformat_minor": 2
}
